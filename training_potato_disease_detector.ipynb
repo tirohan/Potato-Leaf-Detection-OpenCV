{
 "cells": [
  {
   "cell_type": "code",
   "execution_count": 6,
   "id": "heated-billion",
   "metadata": {},
   "outputs": [],
   "source": [
    "# import the necessary packages\n",
    "from tensorflow.keras.preprocessing.image import ImageDataGenerator\n",
    "from tensorflow.keras.applications import MobileNetV2\n",
    "from tensorflow.keras.layers import AveragePooling2D\n",
    "from tensorflow.keras.layers import Dropout\n",
    "from tensorflow.keras.layers import Flatten\n",
    "from tensorflow.keras.layers import Dense\n",
    "from tensorflow.keras.layers import Input\n",
    "from tensorflow.keras.models import Model\n",
    "from tensorflow.keras.optimizers import Adam\n",
    "from tensorflow.keras.applications.mobilenet_v2 import preprocess_input\n",
    "from tensorflow.keras.preprocessing.image import img_to_array\n",
    "from tensorflow.keras.preprocessing.image import load_img\n",
    "from tensorflow.keras.utils import to_categorical\n",
    "from sklearn.preprocessing import LabelBinarizer\n",
    "from sklearn.model_selection import train_test_split\n",
    "from sklearn.metrics import classification_report\n",
    "from imutils import paths\n",
    "import matplotlib.pyplot as plt\n",
    "import numpy as np\n",
    "import os\n"
   ]
  },
  {
   "cell_type": "code",
   "execution_count": 7,
   "id": "tracked-bundle",
   "metadata": {},
   "outputs": [],
   "source": [
    "# initialize the initial learning rate, number of epochs to train for,\n",
    "# and batch size\n",
    "INIT_LR = 1e-4\n",
    "EPOCHS = 20\n",
    "BS = 32"
   ]
  },
  {
   "cell_type": "code",
   "execution_count": 8,
   "id": "obvious-trout",
   "metadata": {},
   "outputs": [
    {
     "name": "stdout",
     "output_type": "stream",
     "text": [
      "[INFO] loading images...\n"
     ]
    }
   ],
   "source": [
    "DIRECTORY = r\"D:\\Agrotrace\\Potato disease detector opencv\\Potato-image-detector\\Potato\"\n",
    "CATEGORIES = [\"Potato_Early_blight\",\"Potato_Late_blight\"]\n",
    "\n",
    "# grab the list of images in our dataset directory, then initialize\n",
    "# the list of data (i.e., images) and class images\n",
    "print(\"[INFO] loading images...\")"
   ]
  },
  {
   "cell_type": "code",
   "execution_count": 9,
   "id": "indirect-newsletter",
   "metadata": {},
   "outputs": [],
   "source": [
    "data = []\n",
    "labels = []\n",
    "\n",
    "for category in CATEGORIES:\n",
    "    path = os.path.join(DIRECTORY, category)\n",
    "    for img in os.listdir(path):\n",
    "    \timg_path = os.path.join(path, img)\n",
    "    \timage = load_img(img_path, target_size=(224, 224))\n",
    "    \timage = img_to_array(image)\n",
    "    \timage = preprocess_input(image)\n",
    "\n",
    "    \tdata.append(image)\n",
    "    \tlabels.append(category)"
   ]
  },
  {
   "cell_type": "code",
   "execution_count": 10,
   "id": "laden-sunglasses",
   "metadata": {},
   "outputs": [],
   "source": [
    "# perform one-hot encoding on the labels\n",
    "lb = LabelBinarizer()\n",
    "labels = lb.fit_transform(labels)\n",
    "labels = to_categorical(labels)\n",
    "\n",
    "data = np.array(data, dtype=\"float32\")\n",
    "labels = np.array(labels)\n",
    "\n",
    "(trainX, testX, trainY, testY) = train_test_split(data, labels,\n",
    "\ttest_size=0.20, stratify=labels, random_state=42)\n"
   ]
  },
  {
   "cell_type": "code",
   "execution_count": 11,
   "id": "promotional-latino",
   "metadata": {},
   "outputs": [],
   "source": [
    "# construct the training image generator for data augmentation\n",
    "aug = ImageDataGenerator(\n",
    "\trotation_range=20,\n",
    "\tzoom_range=0.15,\n",
    "\twidth_shift_range=0.2,\n",
    "\theight_shift_range=0.2,\n",
    "\tshear_range=0.15,\n",
    "\thorizontal_flip=True,\n",
    "\tfill_mode=\"nearest\")"
   ]
  },
  {
   "cell_type": "code",
   "execution_count": 12,
   "id": "opened-intelligence",
   "metadata": {},
   "outputs": [
    {
     "name": "stdout",
     "output_type": "stream",
     "text": [
      "WARNING:tensorflow:`input_shape` is undefined or non-square, or `rows` is not in [96, 128, 160, 192, 224]. Weights for input shape (224, 224) will be loaded as the default.\n",
      "Downloading data from https://storage.googleapis.com/tensorflow/keras-applications/mobilenet_v2/mobilenet_v2_weights_tf_dim_ordering_tf_kernels_1.0_224_no_top.h5\n",
      "9412608/9406464 [==============================] - 4s 0us/step\n"
     ]
    }
   ],
   "source": [
    "# load the MobileNetV2 network, ensuring the head FC layer sets are\n",
    "# left off\n",
    "baseModel = MobileNetV2(weights=\"imagenet\", include_top=False,\n",
    "\tinput_tensor=Input(shape=(224, 224, 3)))\n",
    "\n",
    "# construct the head of the model that will be placed on top of the\n",
    "# the base model\n",
    "headModel = baseModel.output\n",
    "headModel = AveragePooling2D(pool_size=(7, 7))(headModel)\n",
    "headModel = Flatten(name=\"flatten\")(headModel)\n",
    "headModel = Dense(128, activation=\"relu\")(headModel)\n",
    "headModel = Dropout(0.5)(headModel)\n",
    "headModel = Dense(2, activation=\"softmax\")(headModel)"
   ]
  },
  {
   "cell_type": "code",
   "execution_count": 13,
   "id": "premier-kingston",
   "metadata": {},
   "outputs": [],
   "source": [
    "# place the head FC model on top of the base model (this will become\n",
    "# the actual model we will train)\n",
    "model = Model(inputs=baseModel.input, outputs=headModel)"
   ]
  },
  {
   "cell_type": "code",
   "execution_count": 14,
   "id": "genuine-exchange",
   "metadata": {},
   "outputs": [
    {
     "name": "stdout",
     "output_type": "stream",
     "text": [
      "[INFO] compiling model...\n",
      "[INFO] training head...\n",
      "Epoch 1/20\n",
      "50/50 [==============================] - 26s 514ms/step - loss: 0.6260 - accuracy: 0.6956 - val_loss: 0.2576 - val_accuracy: 0.9250\n",
      "Epoch 2/20\n",
      "50/50 [==============================] - 25s 503ms/step - loss: 0.2629 - accuracy: 0.8975 - val_loss: 0.1640 - val_accuracy: 0.9550\n",
      "Epoch 3/20\n",
      "50/50 [==============================] - 25s 501ms/step - loss: 0.1853 - accuracy: 0.9300 - val_loss: 0.1157 - val_accuracy: 0.9800\n",
      "Epoch 4/20\n",
      "50/50 [==============================] - 25s 497ms/step - loss: 0.1496 - accuracy: 0.9438 - val_loss: 0.1027 - val_accuracy: 0.9775\n",
      "Epoch 5/20\n",
      "50/50 [==============================] - 25s 502ms/step - loss: 0.1314 - accuracy: 0.9469 - val_loss: 0.0875 - val_accuracy: 0.9775\n",
      "Epoch 6/20\n",
      "50/50 [==============================] - 25s 502ms/step - loss: 0.1009 - accuracy: 0.9663 - val_loss: 0.0763 - val_accuracy: 0.9775\n",
      "Epoch 7/20\n",
      "50/50 [==============================] - 25s 504ms/step - loss: 0.0907 - accuracy: 0.9719 - val_loss: 0.0651 - val_accuracy: 0.9850\n",
      "Epoch 8/20\n",
      "50/50 [==============================] - 25s 504ms/step - loss: 0.0785 - accuracy: 0.9750 - val_loss: 0.0697 - val_accuracy: 0.9750\n",
      "Epoch 9/20\n",
      "50/50 [==============================] - 25s 507ms/step - loss: 0.0706 - accuracy: 0.9825 - val_loss: 0.0681 - val_accuracy: 0.9750\n",
      "Epoch 10/20\n",
      "50/50 [==============================] - 25s 504ms/step - loss: 0.0756 - accuracy: 0.9712 - val_loss: 0.0787 - val_accuracy: 0.9700\n",
      "Epoch 11/20\n",
      "50/50 [==============================] - 25s 503ms/step - loss: 0.0684 - accuracy: 0.9756 - val_loss: 0.0728 - val_accuracy: 0.9700\n",
      "Epoch 12/20\n",
      "50/50 [==============================] - 25s 502ms/step - loss: 0.0643 - accuracy: 0.9781 - val_loss: 0.0530 - val_accuracy: 0.9800\n",
      "Epoch 13/20\n",
      "50/50 [==============================] - 25s 501ms/step - loss: 0.0545 - accuracy: 0.9819 - val_loss: 0.0661 - val_accuracy: 0.9700\n",
      "Epoch 14/20\n",
      "50/50 [==============================] - 25s 501ms/step - loss: 0.0537 - accuracy: 0.9825 - val_loss: 0.0495 - val_accuracy: 0.9800\n",
      "Epoch 15/20\n",
      "50/50 [==============================] - 25s 502ms/step - loss: 0.0477 - accuracy: 0.9837 - val_loss: 0.0409 - val_accuracy: 0.9875\n",
      "Epoch 16/20\n",
      "50/50 [==============================] - 25s 502ms/step - loss: 0.0489 - accuracy: 0.9862 - val_loss: 0.0468 - val_accuracy: 0.9825\n",
      "Epoch 17/20\n",
      "50/50 [==============================] - 25s 499ms/step - loss: 0.0426 - accuracy: 0.9844 - val_loss: 0.0438 - val_accuracy: 0.9825\n",
      "Epoch 18/20\n",
      "50/50 [==============================] - 25s 502ms/step - loss: 0.0494 - accuracy: 0.9812 - val_loss: 0.0347 - val_accuracy: 0.9875\n",
      "Epoch 19/20\n",
      "50/50 [==============================] - 25s 498ms/step - loss: 0.0504 - accuracy: 0.9825 - val_loss: 0.0380 - val_accuracy: 0.9875\n",
      "Epoch 20/20\n",
      "50/50 [==============================] - 25s 499ms/step - loss: 0.0398 - accuracy: 0.9837 - val_loss: 0.0409 - val_accuracy: 0.9850\n"
     ]
    }
   ],
   "source": [
    "# loop over all layers in the base model and freeze them so they will\n",
    "# *not* be updated during the first training process\n",
    "for layer in baseModel.layers:\n",
    "\tlayer.trainable = False\n",
    "\n",
    "# compile our model\n",
    "print(\"[INFO] compiling model...\")\n",
    "opt = Adam(lr=INIT_LR, decay=INIT_LR / EPOCHS)\n",
    "model.compile(loss=\"binary_crossentropy\", optimizer=opt,\n",
    "\tmetrics=[\"accuracy\"])\n",
    "\n",
    "# train the head of the network\n",
    "print(\"[INFO] training head...\")\n",
    "H = model.fit(\n",
    "\taug.flow(trainX, trainY, batch_size=BS),\n",
    "\tsteps_per_epoch=len(trainX) // BS,\n",
    "\tvalidation_data=(testX, testY),\n",
    "\tvalidation_steps=len(testX) // BS,\n",
    "\tepochs=EPOCHS)\n"
   ]
  },
  {
   "cell_type": "code",
   "execution_count": 15,
   "id": "devoted-purple",
   "metadata": {},
   "outputs": [
    {
     "name": "stdout",
     "output_type": "stream",
     "text": [
      "[INFO] evaluating network...\n",
      "                     precision    recall  f1-score   support\n",
      "\n",
      "Potato_Early_blight       0.99      0.97      0.98       200\n",
      " Potato_Late_blight       0.98      0.99      0.99       200\n",
      "\n",
      "           accuracy                           0.98       400\n",
      "          macro avg       0.99      0.98      0.98       400\n",
      "       weighted avg       0.99      0.98      0.98       400\n",
      "\n",
      "[INFO] saving mask detector model...\n"
     ]
    },
    {
     "data": {
      "image/png": "[encoded data removed]",
      "text/plain": [
       "<Figure size 432x288 with 1 Axes>"
      ]
     },
     "metadata": {},
     "output_type": "display_data"
    }
   ],
   "source": [
    "# make predictions on the testing set\n",
    "print(\"[INFO] evaluating network...\")\n",
    "predIdxs = model.predict(testX, batch_size=BS)\n",
    "\n",
    "# for each image in the testing set we need to find the index of the\n",
    "# label with corresponding largest predicted probability\n",
    "predIdxs = np.argmax(predIdxs, axis=1)\n",
    "\n",
    "# show a nicely formatted classification report\n",
    "print(classification_report(testY.argmax(axis=1), predIdxs,\n",
    "\ttarget_names=lb.classes_))\n",
    "\n",
    "# serialize the model to disk\n",
    "print(\"[INFO] saving mask detector model...\")\n",
    "model.save(\"D:\\Agrotrace\\Potato disease detector opencv\\Potato-image-detector\\disease_detector.model\", save_format=\"h5\")\n",
    "\n",
    "# plot the training loss and accuracy\n",
    "N = EPOCHS\n",
    "plt.style.use(\"ggplot\")\n",
    "plt.figure()\n",
    "plt.plot(np.arange(0, N), H.history[\"loss\"], label=\"train_loss\")\n",
    "plt.plot(np.arange(0, N), H.history[\"val_loss\"], label=\"val_loss\")\n",
    "plt.plot(np.arange(0, N), H.history[\"accuracy\"], label=\"train_acc\")\n",
    "plt.plot(np.arange(0, N), H.history[\"val_accuracy\"], label=\"val_acc\")\n",
    "plt.title(\"Training Loss and Accuracy\")\n",
    "plt.xlabel(\"Epoch #\")\n",
    "plt.ylabel(\"Loss/Accuracy\")\n",
    "plt.legend(loc=\"lower left\")\n",
    "plt.savefig(\"plot.png\")"
   ]
  }
 ],
 "metadata": {
  "kernelspec": {
   "display_name": "Python 3",
   "language": "python",
   "name": "python3"
  },
  "language_info": {
   "codemirror_mode": {
    "name": "ipython",
    "version": 3
   },
   "file_extension": ".py",
   "mimetype": "text/x-python",
   "name": "python",
   "nbconvert_exporter": "python",
   "pygments_lexer": "ipython3",
   "version": "3.7.7"
  }
 },
 "nbformat": 4,
 "nbformat_minor": 5
}
